{
  "nbformat": 4,
  "nbformat_minor": 0,
  "metadata": {
    "colab": {
      "provenance": [],
      "authorship_tag": "ABX9TyMTmkbuuEXMH3iq4AK48pYG",
      "include_colab_link": true
    },
    "kernelspec": {
      "name": "python3",
      "display_name": "Python 3"
    },
    "language_info": {
      "name": "python"
    }
  },
  "cells": [
    {
      "cell_type": "markdown",
      "metadata": {
        "id": "view-in-github",
        "colab_type": "text"
      },
      "source": [
        "<a href=\"https://colab.research.google.com/github/Talhaa07/python_ka_chila/blob/main/loops_practice.ipynb\" target=\"_parent\"><img src=\"https://colab.research.google.com/assets/colab-badge.svg\" alt=\"Open In Colab\"/></a>"
      ]
    },
    {
      "cell_type": "code",
      "execution_count": null,
      "metadata": {
        "colab": {
          "base_uri": "https://localhost:8080/",
          "height": 130
        },
        "id": "Zq2JcinNE9EN",
        "outputId": "007634ca-679c-4ae0-972d-ea4b0f964baf"
      },
      "outputs": [
        {
          "output_type": "error",
          "ename": "SyntaxError",
          "evalue": "ignored",
          "traceback": [
            "\u001b[0;36m  File \u001b[0;32m\"<ipython-input-2-e5548ac10f27>\"\u001b[0;36m, line \u001b[0;32m5\u001b[0m\n\u001b[0;31m    print(f \"2*{i}={2*i}\")\u001b[0m\n\u001b[0m            ^\u001b[0m\n\u001b[0;31mSyntaxError\u001b[0m\u001b[0;31m:\u001b[0m invalid syntax\n"
          ]
        }
      ],
      "source": [
        "i = 1\n",
        "while i <= 10:\n",
        "  if i == 5:\n",
        "    break\n",
        "  print(f \"2*{i}={2*i}\")\n",
        "  i+=1\n",
        "else:\n",
        "  print(\"while loop terminated\")"
      ]
    },
    {
      "cell_type": "code",
      "source": [
        "list(range(6))"
      ],
      "metadata": {
        "colab": {
          "base_uri": "https://localhost:8080/"
        },
        "id": "ka63iTF0FeCL",
        "outputId": "7434f4a4-64ad-413f-b555-fed73296351d"
      },
      "execution_count": null,
      "outputs": [
        {
          "output_type": "execute_result",
          "data": {
            "text/plain": [
              "[0, 1, 2, 3, 4, 5]"
            ]
          },
          "metadata": {},
          "execution_count": 3
        }
      ]
    },
    {
      "cell_type": "code",
      "source": [
        "list(range(45,80,5))"
      ],
      "metadata": {
        "colab": {
          "base_uri": "https://localhost:8080/"
        },
        "id": "wFKSjXD4GUvV",
        "outputId": "e02567a3-96bc-4eb1-944a-50f523411fb8"
      },
      "execution_count": null,
      "outputs": [
        {
          "output_type": "execute_result",
          "data": {
            "text/plain": [
              "[45, 50, 55, 60, 65, 70, 75]"
            ]
          },
          "metadata": {},
          "execution_count": 4
        }
      ]
    },
    {
      "cell_type": "code",
      "source": [
        "i=1\n",
        "while i < 4:\n",
        "  j=0\n",
        "  while j <3:\n",
        "    print(\"j\")\n",
        "    j+=1\n",
        "  i=i+1"
      ],
      "metadata": {
        "colab": {
          "base_uri": "https://localhost:8080/"
        },
        "id": "oib1SfAhGish",
        "outputId": "865c3939-2ada-4e11-c217-2168d98b5b50"
      },
      "execution_count": null,
      "outputs": [
        {
          "output_type": "stream",
          "name": "stdout",
          "text": [
            "j\n",
            "j\n",
            "j\n",
            "j\n",
            "j\n",
            "j\n",
            "j\n",
            "j\n",
            "j\n"
          ]
        }
      ]
    },
    {
      "cell_type": "code",
      "source": [
        " j=0\n",
        "while j <3:\n",
        "  print(\"j\")\n",
        "  j=j+1"
      ],
      "metadata": {
        "colab": {
          "base_uri": "https://localhost:8080/"
        },
        "id": "4oC4xL3pJqNZ",
        "outputId": "28e4f67a-fa37-4cd8-a4c5-61d332e3ef93"
      },
      "execution_count": null,
      "outputs": [
        {
          "output_type": "stream",
          "name": "stdout",
          "text": [
            "j\n",
            "j\n",
            "j\n"
          ]
        }
      ]
    },
    {
      "cell_type": "code",
      "source": [
        "\n",
        "  ml= [2,3,4,5,6]\n",
        "  i=0\n",
        "  while i < len(ml):\n",
        "    ml[i]=ml[i]*2\n",
        "    \n",
        "    i +=1\n",
        "\n",
        "  print(ml)"
      ],
      "metadata": {
        "colab": {
          "base_uri": "https://localhost:8080/"
        },
        "id": "nIZNJ0mRJ9k-",
        "outputId": "f26c0024-12c1-4f68-aecc-b8e8c057bd5c"
      },
      "execution_count": null,
      "outputs": [
        {
          "output_type": "stream",
          "name": "stdout",
          "text": [
            "[4, 6, 8, 10, 12]\n"
          ]
        }
      ]
    },
    {
      "cell_type": "code",
      "source": [
        "for i in range (len(ml)):\n",
        "  ml[i]=ml[i]*2\n",
        "print(ml)"
      ],
      "metadata": {
        "colab": {
          "base_uri": "https://localhost:8080/"
        },
        "id": "Wl8-NzXvMN76",
        "outputId": "21243b41-7433-481e-9d08-8286a7d5e416"
      },
      "execution_count": null,
      "outputs": [
        {
          "output_type": "stream",
          "name": "stdout",
          "text": [
            "[8, 12, 16, 20, 24]\n"
          ]
        }
      ]
    },
    {
      "cell_type": "code",
      "source": [
        "for i in ml:\n",
        "  if i%2 ==0:\n",
        "    print(\"even\")\n",
        "  else:\n",
        "    print(\"add\")"
      ],
      "metadata": {
        "colab": {
          "base_uri": "https://localhost:8080/"
        },
        "id": "FREYC6PYNMyH",
        "outputId": "dec62b34-cd8f-4431-9047-9bcb6dae99dd"
      },
      "execution_count": null,
      "outputs": [
        {
          "output_type": "stream",
          "name": "stdout",
          "text": [
            "even\n",
            "even\n",
            "even\n",
            "even\n",
            "even\n"
          ]
        }
      ]
    },
    {
      "cell_type": "code",
      "source": [
        "fruits = ['apple','guawa','orange','pineapple']\n",
        "i=0\n",
        "while i < (len(fruits)):\n",
        "  print(fruits[i])\n",
        "  i=i+1"
      ],
      "metadata": {
        "colab": {
          "base_uri": "https://localhost:8080/"
        },
        "id": "asx-5fVaOzw6",
        "outputId": "70d54f4c-42ce-4111-cb8a-38f0e169fc29"
      },
      "execution_count": null,
      "outputs": [
        {
          "output_type": "stream",
          "name": "stdout",
          "text": [
            "apple\n",
            "guawa\n",
            "orange\n",
            "pineapple\n"
          ]
        }
      ]
    },
    {
      "cell_type": "code",
      "source": [
        "fruits= ['apple','straberry','orange','guugwa']\n",
        "i=0\n",
        "while i < (len(fruits)):\n",
        "  fruits[i] = fruits[i]*2\n",
        "  i=i+1\n",
        "print(fruits)"
      ],
      "metadata": {
        "id": "Yj96lNzoSKhj",
        "colab": {
          "base_uri": "https://localhost:8080/"
        },
        "outputId": "93a303b2-6d70-488c-e2b5-1c9568a7bc79"
      },
      "execution_count": null,
      "outputs": [
        {
          "output_type": "stream",
          "name": "stdout",
          "text": [
            "['appleapple', 'straberrystraberry', 'orangeorange', 'guugwaguugwa']\n"
          ]
        }
      ]
    },
    {
      "cell_type": "code",
      "source": [
        "user = int(input(\"enter your number: \"))\n",
        "i=1\n",
        "while i < user:\n",
        "  if user % i == 0:\n",
        "    print(\"not a prime number\")\n",
        "    break\n",
        "  else:\n",
        "    print(\"it a prime number\")"
      ],
      "metadata": {
        "colab": {
          "base_uri": "https://localhost:8080/"
        },
        "id": "qxceEDwAZzxb",
        "outputId": "0d7f953d-2706-4728-9421-6211d8ca9780"
      },
      "execution_count": null,
      "outputs": [
        {
          "output_type": "stream",
          "name": "stdout",
          "text": [
            "enter your number: 47\n",
            "not a prime number\n"
          ]
        }
      ]
    },
    {
      "cell_type": "code",
      "source": [
        "for i in range (2,user):\n",
        "  if user%i==0:\n",
        "    print(\"not prime\")\n",
        "    break\n",
        "  else:\n",
        "    print(\"prime\")"
      ],
      "metadata": {
        "colab": {
          "base_uri": "https://localhost:8080/"
        },
        "id": "dibq8cd3dIZ8",
        "outputId": "42dfb499-343d-40b9-960d-4f209c070e1c"
      },
      "execution_count": null,
      "outputs": [
        {
          "output_type": "stream",
          "name": "stdout",
          "text": [
            "prime\n",
            "prime\n",
            "prime\n",
            "prime\n",
            "prime\n",
            "prime\n",
            "prime\n",
            "prime\n",
            "prime\n",
            "prime\n",
            "prime\n",
            "prime\n",
            "prime\n",
            "prime\n",
            "prime\n",
            "prime\n",
            "prime\n",
            "prime\n",
            "prime\n",
            "prime\n",
            "prime\n",
            "prime\n",
            "prime\n",
            "prime\n",
            "prime\n",
            "prime\n",
            "prime\n",
            "prime\n",
            "prime\n",
            "prime\n",
            "prime\n",
            "prime\n",
            "prime\n",
            "prime\n",
            "prime\n",
            "prime\n",
            "prime\n",
            "prime\n",
            "prime\n",
            "prime\n",
            "prime\n",
            "prime\n",
            "prime\n",
            "prime\n",
            "prime\n"
          ]
        }
      ]
    },
    {
      "cell_type": "code",
      "source": [
        "a = int(input(\"start value : \"))\n",
        "b = int(input(\"end value : \"))\n",
        "\n",
        "for i in range(a,b+1):\n",
        "  for j in range(2,i):\n",
        "    if i%j==0:\n",
        "   #\n",
        "      break\n",
        "\n",
        "  else:\n",
        "    (i,\"is prime\")"
      ],
      "metadata": {
        "colab": {
          "base_uri": "https://localhost:8080/"
        },
        "id": "2Yw19icie26j",
        "outputId": "dc4b415a-e2a4-4e98-d46e-a903423077c6"
      },
      "execution_count": null,
      "outputs": [
        {
          "name": "stdout",
          "output_type": "stream",
          "text": [
            "start value : 10\n",
            "end value : 47\n"
          ]
        }
      ]
    },
    {
      "cell_type": "code",
      "source": [
        "n = int(input(\"enter a number\"))\n",
        "i=2\n",
        "while (i<n):\n",
        "  flage=0\n",
        "  for var in range(2,i):\n",
        "    if (i%var==0):\n",
        "      flage=1\n",
        "      break\n",
        "\n",
        "  if flage==0:\n",
        "    print(i,end=\" \")\n",
        "\n",
        "  i =i+1\n"
      ],
      "metadata": {
        "colab": {
          "base_uri": "https://localhost:8080/"
        },
        "id": "DmTJYcIpgx1-",
        "outputId": "26e1566d-fb9a-4693-cd0b-cce9e23a9602"
      },
      "execution_count": null,
      "outputs": [
        {
          "output_type": "stream",
          "name": "stdout",
          "text": [
            "enter a number7\n",
            "2 3 5 "
          ]
        }
      ]
    },
    {
      "cell_type": "code",
      "source": [
        "l , r, k = input().split()\n",
        "l=int(l)\n",
        "r=int(r)\n",
        "k=int(k)\n",
        "count=0\n",
        "for i in range(r,l+1):\n",
        "  if i%k==0:\n",
        "    count=count+1\n",
        "\n",
        "else:\n",
        "  print(count)\n",
        "\n"
      ],
      "metadata": {
        "colab": {
          "base_uri": "https://localhost:8080/",
          "height": 252
        },
        "id": "YtIXZfAMl8oj",
        "outputId": "4c4eafc4-5333-4dc0-9b43-c8145bbe81d4"
      },
      "execution_count": null,
      "outputs": [
        {
          "name": "stdout",
          "output_type": "stream",
          "text": [
            "3\n"
          ]
        },
        {
          "output_type": "error",
          "ename": "ValueError",
          "evalue": "ignored",
          "traceback": [
            "\u001b[0;31m---------------------------------------------------------------------------\u001b[0m",
            "\u001b[0;31mValueError\u001b[0m                                Traceback (most recent call last)",
            "\u001b[0;32m<ipython-input-19-80c9938724e6>\u001b[0m in \u001b[0;36m<cell line: 1>\u001b[0;34m()\u001b[0m\n\u001b[0;32m----> 1\u001b[0;31m \u001b[0ml\u001b[0m \u001b[0;34m,\u001b[0m \u001b[0mr\u001b[0m\u001b[0;34m,\u001b[0m \u001b[0mk\u001b[0m \u001b[0;34m=\u001b[0m \u001b[0minput\u001b[0m\u001b[0;34m(\u001b[0m\u001b[0;34m)\u001b[0m\u001b[0;34m.\u001b[0m\u001b[0msplit\u001b[0m\u001b[0;34m(\u001b[0m\u001b[0;34m)\u001b[0m\u001b[0;34m\u001b[0m\u001b[0;34m\u001b[0m\u001b[0m\n\u001b[0m\u001b[1;32m      2\u001b[0m \u001b[0ml\u001b[0m\u001b[0;34m=\u001b[0m\u001b[0mint\u001b[0m\u001b[0;34m(\u001b[0m\u001b[0ml\u001b[0m\u001b[0;34m)\u001b[0m\u001b[0;34m\u001b[0m\u001b[0;34m\u001b[0m\u001b[0m\n\u001b[1;32m      3\u001b[0m \u001b[0mr\u001b[0m\u001b[0;34m=\u001b[0m\u001b[0mint\u001b[0m\u001b[0;34m(\u001b[0m\u001b[0mr\u001b[0m\u001b[0;34m)\u001b[0m\u001b[0;34m\u001b[0m\u001b[0;34m\u001b[0m\u001b[0m\n\u001b[1;32m      4\u001b[0m \u001b[0mk\u001b[0m\u001b[0;34m=\u001b[0m\u001b[0mint\u001b[0m\u001b[0;34m(\u001b[0m\u001b[0mk\u001b[0m\u001b[0;34m)\u001b[0m\u001b[0;34m\u001b[0m\u001b[0;34m\u001b[0m\u001b[0m\n\u001b[1;32m      5\u001b[0m \u001b[0mcount\u001b[0m\u001b[0;34m=\u001b[0m\u001b[0;36m0\u001b[0m\u001b[0;34m\u001b[0m\u001b[0;34m\u001b[0m\u001b[0m\n",
            "\u001b[0;31mValueError\u001b[0m: not enough values to unpack (expected 3, got 1)"
          ]
        }
      ]
    },
    {
      "cell_type": "code",
      "source": [
        "inp= input()\n",
        "rev=inp[::-1]\n",
        "\n",
        "if inp==rev:\n",
        "  print(\"polyndram\")\n",
        "\n",
        "else:\n",
        "  print(\"not polydram\")"
      ],
      "metadata": {
        "colab": {
          "base_uri": "https://localhost:8080/"
        },
        "id": "4w4BeZ-ZnZUN",
        "outputId": "e35e69a0-cca6-4b6f-bb4b-3021f87448a0"
      },
      "execution_count": null,
      "outputs": [
        {
          "output_type": "stream",
          "name": "stdout",
          "text": [
            "level\n",
            "polyndram\n"
          ]
        }
      ]
    },
    {
      "cell_type": "code",
      "source": [
        "num =int(input())\n",
        "temp=num\n",
        "rev=0\n",
        "while temp>0:\n",
        "  r=temp%10\n",
        "  temp=temp//10\n",
        "  rev=rev*10+r\n",
        "print(rev)\n",
        "if rev==num:\n",
        "  print(\"polngrana\")\n",
        "\n",
        "else:\n",
        "  print(\"not pl\")"
      ],
      "metadata": {
        "colab": {
          "base_uri": "https://localhost:8080/"
        },
        "id": "uXqusEc9pjXp",
        "outputId": "a625f729-7b0f-4143-8723-cf00a0267e91"
      },
      "execution_count": null,
      "outputs": [
        {
          "output_type": "stream",
          "name": "stdout",
          "text": [
            "22\n",
            "22\n",
            "polngrana\n"
          ]
        }
      ]
    },
    {
      "cell_type": "code",
      "source": [
        "num=int(input())\n",
        "temp=num\n",
        "rev=0\n",
        "while temp>0:\n",
        "  r=temp%10\n",
        "  temp=temp//10\n",
        "  rev=rev*10+r\n",
        "print(rev)\n",
        "if rev==num:\n",
        "  print(\"pol\")\n",
        "\n",
        "else:\n",
        "  print(\"not pol\")"
      ],
      "metadata": {
        "id": "7qh-T9iKsdkH"
      },
      "execution_count": null,
      "outputs": []
    },
    {
      "cell_type": "code",
      "source": [],
      "metadata": {
        "id": "yd707t5FMilY"
      },
      "execution_count": null,
      "outputs": []
    }
  ]
}